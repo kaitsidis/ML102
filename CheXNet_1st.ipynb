{
  "nbformat": 4,
  "nbformat_minor": 0,
  "metadata": {
    "colab": {
      "provenance": [],
      "mount_file_id": "1ZfqUU6c-j4yoc8cJXtHSDaETEnn0sWe8",
      "authorship_tag": "ABX9TyO4XRMKywKU6DANvVLD8hvg",
      "include_colab_link": true
    },
    "kernelspec": {
      "name": "python3",
      "display_name": "Python 3"
    },
    "language_info": {
      "name": "python"
    }
  },
  "cells": [
    {
      "cell_type": "markdown",
      "metadata": {
        "id": "view-in-github",
        "colab_type": "text"
      },
      "source": [
        "<a href=\"https://colab.research.google.com/github/kaitsidis/ML102/blob/main/CheXNet_1st.ipynb\" target=\"_parent\"><img src=\"https://colab.research.google.com/assets/colab-badge.svg\" alt=\"Open In Colab\"/></a>"
      ]
    },
    {
      "cell_type": "code",
      "source": [
        "from google.colab import drive\n",
        "drive.mount('/content/drive')"
      ],
      "metadata": {
        "colab": {
          "base_uri": "https://localhost:8080/"
        },
        "id": "_nJpiDH7Octg",
        "outputId": "8ec4d0e2-b455-4407-f686-7d0c8d55a5f2"
      },
      "execution_count": 1,
      "outputs": [
        {
          "output_type": "stream",
          "name": "stdout",
          "text": [
            "Drive already mounted at /content/drive; to attempt to forcibly remount, call drive.mount(\"/content/drive\", force_remount=True).\n"
          ]
        }
      ]
    },
    {
      "cell_type": "code",
      "execution_count": null,
      "metadata": {
        "id": "Ra5qnuxYN7dy"
      },
      "outputs": [],
      "source": [
        "import os\n",
        "import pandas as pd\n",
        "import numpy as np\n",
        "import matplotlib.pyplot as plt\n",
        "from sklearn.model_selection import train_test_split\n",
        "from tensorflow.keras.preprocessing.image import ImageDataGenerator\n",
        "from tensorflow.keras.models import load_model\n",
        "from tensorflow.keras.applications import DenseNet121\n",
        "from tensorflow.keras.layers import Dense, GlobalAveragePooling2D, Dropout\n",
        "from tensorflow.keras import Model\n",
        "from tensorflow.keras.callbacks import EarlyStopping, ModelCheckpoint\n",
        "\n",
        "# Φάκελος με τις εικόνες και το αρχείο labels\n",
        "image_folder = 'path/to/training_images'\n",
        "labels_file = 'path/to/labels_train.csv'\n",
        "\n",
        "# Φόρτωση των labels\n",
        "labels = pd.read_csv(labels_file)\n",
        "\n",
        "# Δημιουργία ενός DataFrame με τις εικόνες και τις κατηγορίες\n",
        "labels['class_id'] = labels['class_id'].astype(str)  # Μετατροπή σε string για το ImageDataGenerator\n",
        "train_df, val_df = train_test_split(labels, test_size=0.2, stratify=labels['class_id'], random_state=42)"
      ]
    }
  ]
}